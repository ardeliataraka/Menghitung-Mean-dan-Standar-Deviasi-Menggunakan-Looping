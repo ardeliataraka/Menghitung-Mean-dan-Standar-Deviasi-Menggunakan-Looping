{
 "cells": [
  {
   "cell_type": "code",
   "execution_count": 3,
   "id": "cb026b9a-905c-4860-bf62-5112c96daa84",
   "metadata": {},
   "outputs": [
    {
     "data": {
      "text/html": [
       "<div>\n",
       "<style scoped>\n",
       "    .dataframe tbody tr th:only-of-type {\n",
       "        vertical-align: middle;\n",
       "    }\n",
       "\n",
       "    .dataframe tbody tr th {\n",
       "        vertical-align: top;\n",
       "    }\n",
       "\n",
       "    .dataframe thead th {\n",
       "        text-align: right;\n",
       "    }\n",
       "</style>\n",
       "<table border=\"1\" class=\"dataframe\">\n",
       "  <thead>\n",
       "    <tr style=\"text-align: right;\">\n",
       "      <th></th>\n",
       "      <th>rock density</th>\n",
       "      <th>seismic velocity</th>\n",
       "    </tr>\n",
       "  </thead>\n",
       "  <tbody>\n",
       "    <tr>\n",
       "      <th>0</th>\n",
       "      <td>2.60</td>\n",
       "      <td>4.2</td>\n",
       "    </tr>\n",
       "    <tr>\n",
       "      <th>1</th>\n",
       "      <td>2.65</td>\n",
       "      <td>4.5</td>\n",
       "    </tr>\n",
       "    <tr>\n",
       "      <th>2</th>\n",
       "      <td>2.70</td>\n",
       "      <td>4.7</td>\n",
       "    </tr>\n",
       "    <tr>\n",
       "      <th>3</th>\n",
       "      <td>2.75</td>\n",
       "      <td>4.9</td>\n",
       "    </tr>\n",
       "    <tr>\n",
       "      <th>4</th>\n",
       "      <td>2.80</td>\n",
       "      <td>5.0</td>\n",
       "    </tr>\n",
       "  </tbody>\n",
       "</table>\n",
       "</div>"
      ],
      "text/plain": [
       "   rock density  seismic velocity\n",
       "0          2.60               4.2\n",
       "1          2.65               4.5\n",
       "2          2.70               4.7\n",
       "3          2.75               4.9\n",
       "4          2.80               5.0"
      ]
     },
     "execution_count": 3,
     "metadata": {},
     "output_type": "execute_result"
    }
   ],
   "source": [
    "import pandas as pd\n",
    "\n",
    "petrophy = {'rock density' : [2.60, 2.65, 2.70, 2.75, 2.80],\n",
    "            'seismic velocity' : [4.2, 4.5, 4.7, 4.9, 5.0]}\n",
    "petro_df = pd.DataFrame(petrophy)\n",
    "petro_df"
   ]
  },
  {
   "cell_type": "code",
   "execution_count": 9,
   "id": "a18c311c-47dd-4f40-a925-463b3888ea5f",
   "metadata": {},
   "outputs": [
    {
     "name": "stdout",
     "output_type": "stream",
     "text": [
      "sum of x (rock density): 13.5\n",
      "sum of x^2 (rock density): 36.475\n"
     ]
    }
   ],
   "source": [
    "import numpy as np \n",
    "import math\n",
    "\n",
    "X=np.array(petro_df ['rock density'])\n",
    "Y=np.array(petro_df ['seismic velocity'])\n",
    "N_data = len(X)\n",
    "\n",
    "sum_x = 0\n",
    "sum_x2 = 0\n",
    "\n",
    "for n in range(N_data) :\n",
    "    x = X[n]\n",
    "    sum_x += x\n",
    "    sum_x2 += x**2\n",
    "\n",
    "print (f\"sum of x (rock density): {sum_x}\")\n",
    "print (f\"sum of x^2 (rock density): {sum_x2}\")"
   ]
  },
  {
   "cell_type": "code",
   "execution_count": 11,
   "id": "ee2eab9f-9f6f-4829-8d64-7c5f091246cf",
   "metadata": {},
   "outputs": [
    {
     "name": "stdout",
     "output_type": "stream",
     "text": [
      "____________________________\n",
      "mean of rock density is  2.70 g/cc\n",
      "standart deviation of Density is  0.08 g/cc\n"
     ]
    }
   ],
   "source": [
    "mean_x = sum_x/N_data\n",
    "std_dev_x = math.sqrt ((N_data * sum_x2 - sum_x**2)/(N_data * (N_data - 1)))\n",
    "\n",
    "print('____________________________')\n",
    "print(f'mean of rock density is {mean_x : .2f} g/cc')\n",
    "print(f'standart deviation of Density is {std_dev_x : .2f} g/cc')"
   ]
  },
  {
   "cell_type": "code",
   "execution_count": 17,
   "id": "ef9f6046-d1cb-461a-86a9-a55820850a5f",
   "metadata": {},
   "outputs": [
    {
     "name": "stdout",
     "output_type": "stream",
     "text": [
      "sum of y (seismic velocity):  23.30\n",
      "sum of y^2 (seismic velocity):  108.99\n"
     ]
    }
   ],
   "source": [
    "n=0\n",
    "sum_y = 0\n",
    "sum_y2 = 0\n",
    "\n",
    "while n < N_data:\n",
    "    y = Y[n]\n",
    "    sum_y += y\n",
    "    sum_y2 += y**2\n",
    "    n += 1\n",
    "\n",
    "print (f\"sum of y (seismic velocity): {sum_y : .2f}\")\n",
    "print (f\"sum of y^2 (seismic velocity): {sum_y2 : .2f}\")"
   ]
  },
  {
   "cell_type": "code",
   "execution_count": 19,
   "id": "be0e5531-b1eb-478e-9308-3c1791663783",
   "metadata": {},
   "outputs": [
    {
     "name": "stdout",
     "output_type": "stream",
     "text": [
      "____________________________\n",
      "mean of seismic velocity is  4.66 km/s\n",
      "standart seismic velocity is  0.32 km/s\n"
     ]
    }
   ],
   "source": [
    "mean_y = sum_y/N_data\n",
    "std_dev_y = math.sqrt ((N_data * sum_y2 - sum_y**2)/(N_data * (N_data - 1)))\n",
    "\n",
    "print('____________________________')\n",
    "print(f'mean of seismic velocity is {mean_y : .2f} km/s')\n",
    "print(f'standart seismic velocity is {std_dev_y : .2f} km/s')"
   ]
  },
  {
   "cell_type": "code",
   "execution_count": 21,
   "id": "c1b01cd7-a703-4a89-826a-6e7435218bad",
   "metadata": {},
   "outputs": [
    {
     "name": "stdout",
     "output_type": "stream",
     "text": [
      "sum of y (seismic velocity):  23.30\n",
      "sum of y^2 (seismic velocity):  108.99\n"
     ]
    }
   ],
   "source": [
    "sum_y = 0\n",
    "sum_y2 = 0\n",
    "\n",
    "for n in range (N_data):\n",
    "    y = Y[n]\n",
    "    sum_y += y\n",
    "    sum_y2 += y**2\n",
    "\n",
    "print (f\"sum of y (seismic velocity): {sum_y : .2f}\")\n",
    "print (f\"sum of y^2 (seismic velocity): {sum_y2 : .2f}\")"
   ]
  },
  {
   "cell_type": "code",
   "execution_count": 23,
   "id": "9ed977da-7c5b-4b41-849b-5d90d4deccb7",
   "metadata": {},
   "outputs": [
    {
     "name": "stdout",
     "output_type": "stream",
     "text": [
      "____________________________\n",
      "mean of seismic velocity is  4.66 km/s\n",
      "standart seismic velocity is  0.32 km/s\n"
     ]
    }
   ],
   "source": [
    "mean_y = sum_y/N_data\n",
    "std_dev_y = math.sqrt ((N_data * sum_y2 - sum_y**2)/(N_data * (N_data - 1)))\n",
    "\n",
    "print('____________________________')\n",
    "print(f'mean of seismic velocity is {mean_y : .2f} km/s')\n",
    "print(f'standart seismic velocity is {std_dev_y : .2f} km/s')"
   ]
  },
  {
   "cell_type": "code",
   "execution_count": null,
   "id": "e07431d3-8768-417b-b0a0-b5bd23ef8e8e",
   "metadata": {},
   "outputs": [],
   "source": []
  }
 ],
 "metadata": {
  "kernelspec": {
   "display_name": "Python 3 (ipykernel)",
   "language": "python",
   "name": "python3"
  },
  "language_info": {
   "codemirror_mode": {
    "name": "ipython",
    "version": 3
   },
   "file_extension": ".py",
   "mimetype": "text/x-python",
   "name": "python",
   "nbconvert_exporter": "python",
   "pygments_lexer": "ipython3",
   "version": "3.12.4"
  }
 },
 "nbformat": 4,
 "nbformat_minor": 5
}
